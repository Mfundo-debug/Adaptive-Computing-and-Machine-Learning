{
 "cells": [
  {
   "cell_type": "code",
   "execution_count": 1,
   "id": "1c3aaf29-95ce-4697-83a1-d72457d6554e",
   "metadata": {
    "execution": {
     "iopub.execute_input": "2023-04-11T13:20:15.070989Z",
     "iopub.status.busy": "2023-04-11T13:20:15.070989Z",
     "iopub.status.idle": "2023-04-11T13:20:15.341933Z",
     "shell.execute_reply": "2023-04-11T13:20:15.341933Z",
     "shell.execute_reply.started": "2023-04-11T13:20:15.070989Z"
    },
    "tags": []
   },
   "outputs": [],
   "source": [
    "import numpy as np"
   ]
  },
  {
   "cell_type": "code",
   "execution_count": 2,
   "id": "1a618228-9d18-4a53-af50-9efd2b7faf95",
   "metadata": {
    "execution": {
     "iopub.execute_input": "2023-04-11T13:20:16.630482Z",
     "iopub.status.busy": "2023-04-11T13:20:16.630482Z",
     "iopub.status.idle": "2023-04-11T13:20:16.655347Z",
     "shell.execute_reply": "2023-04-11T13:20:16.655254Z",
     "shell.execute_reply.started": "2023-04-11T13:20:16.630482Z"
    },
    "tags": []
   },
   "outputs": [],
   "source": [
    "input_layer = 4\n",
    "hidden_layer = 6\n",
    "output_layer = 3"
   ]
  },
  {
   "cell_type": "code",
   "execution_count": 3,
   "id": "89bf785c-d94e-4194-b1d5-4db8264956db",
   "metadata": {
    "execution": {
     "iopub.execute_input": "2023-04-11T13:20:17.294460Z",
     "iopub.status.busy": "2023-04-11T13:20:17.294460Z",
     "iopub.status.idle": "2023-04-11T13:20:17.310438Z",
     "shell.execute_reply": "2023-04-11T13:20:17.310438Z",
     "shell.execute_reply.started": "2023-04-11T13:20:17.294460Z"
    },
    "tags": []
   },
   "outputs": [],
   "source": [
    "weights_1 = np.ones((input_layer, hidden_layer))\n",
    "bias_1 = np.ones((1,hidden_layer))\n",
    "weights_2 = np.ones((hidden_layer, output_layer))\n",
    "bias_2 = np.ones((1, output_layer))"
   ]
  },
  {
   "cell_type": "code",
   "execution_count": 4,
   "id": "490733b3-db28-413d-8daa-a57fb8b761c6",
   "metadata": {
    "execution": {
     "iopub.execute_input": "2023-04-11T13:20:18.642720Z",
     "iopub.status.busy": "2023-04-11T13:20:18.642720Z",
     "iopub.status.idle": "2023-04-11T13:20:18.659169Z",
     "shell.execute_reply": "2023-04-11T13:20:18.659169Z",
     "shell.execute_reply.started": "2023-04-11T13:20:18.642720Z"
    },
    "tags": []
   },
   "outputs": [],
   "source": [
    "def sigmoid(x):\n",
    "    return 1/(1+np.exp(-x))"
   ]
  },
  {
   "cell_type": "code",
   "execution_count": 5,
   "id": "82463d60-fa82-4db1-a33e-08ede25dfc42",
   "metadata": {
    "execution": {
     "iopub.execute_input": "2023-04-11T13:20:20.776421Z",
     "iopub.status.busy": "2023-04-11T13:20:20.776421Z",
     "iopub.status.idle": "2023-04-11T13:20:20.792441Z",
     "shell.execute_reply": "2023-04-11T13:20:20.792441Z",
     "shell.execute_reply.started": "2023-04-11T13:20:20.776421Z"
    },
    "tags": []
   },
   "outputs": [],
   "source": [
    "def sigmoid_dt(x):\n",
    "    return x*(1-x)"
   ]
  },
  {
   "cell_type": "code",
   "execution_count": 6,
   "id": "783f22f5-06e9-4ec5-b248-793d90d5f53e",
   "metadata": {
    "execution": {
     "iopub.execute_input": "2023-04-11T13:20:22.868445Z",
     "iopub.status.busy": "2023-04-11T13:20:22.868445Z",
     "iopub.status.idle": "2023-04-11T13:20:22.876472Z",
     "shell.execute_reply": "2023-04-11T13:20:22.876472Z",
     "shell.execute_reply.started": "2023-04-11T13:20:22.868445Z"
    },
    "tags": []
   },
   "outputs": [],
   "source": [
    "input_values = [1,0,-2,-3]\n",
    "target_values = [0,0.7,0.3]"
   ]
  },
  {
   "cell_type": "code",
   "execution_count": 7,
   "id": "f93eafea-1eb1-48b1-8058-f977502e9e71",
   "metadata": {
    "execution": {
     "iopub.execute_input": "2023-04-11T13:20:23.328066Z",
     "iopub.status.busy": "2023-04-11T13:20:23.328066Z",
     "iopub.status.idle": "2023-04-11T13:20:23.347312Z",
     "shell.execute_reply": "2023-04-11T13:20:23.344110Z",
     "shell.execute_reply.started": "2023-04-11T13:20:23.328066Z"
    },
    "tags": []
   },
   "outputs": [],
   "source": [
    "#convert the input and target list to numpy arrs\n",
    "input_arr = np.array(input_values)\n",
    "target_arr = np.array(target_values)\n",
    "\n",
    "#reshape the input array to a row vector\n",
    "input_arr = input_arr.reshape((1, input_arr.shape[0]))"
   ]
  },
  {
   "cell_type": "code",
   "execution_count": 8,
   "id": "5b697d73-5081-4487-9d20-b6cebf396b8c",
   "metadata": {
    "execution": {
     "iopub.execute_input": "2023-04-11T13:20:23.738188Z",
     "iopub.status.busy": "2023-04-11T13:20:23.738188Z",
     "iopub.status.idle": "2023-04-11T13:20:23.762241Z",
     "shell.execute_reply": "2023-04-11T13:20:23.762241Z",
     "shell.execute_reply.started": "2023-04-11T13:20:23.738188Z"
    },
    "tags": []
   },
   "outputs": [],
   "source": [
    "lr= 0.1"
   ]
  },
  {
   "cell_type": "code",
   "execution_count": 9,
   "id": "b1f640e0-a0dd-4018-b9a2-f39e523588bf",
   "metadata": {
    "execution": {
     "iopub.execute_input": "2023-04-11T13:20:24.788673Z",
     "iopub.status.busy": "2023-04-11T13:20:24.788673Z",
     "iopub.status.idle": "2023-04-11T13:20:24.812671Z",
     "shell.execute_reply": "2023-04-11T13:20:24.812671Z",
     "shell.execute_reply.started": "2023-04-11T13:20:24.788673Z"
    },
    "tags": []
   },
   "outputs": [],
   "source": [
    "hidden_layers = sigmoid(np.dot(input_arr, weights_1)+bias_1)\n",
    "output_layers = sigmoid(np.dot(hidden_layers, weights_2)+bias_2)"
   ]
  },
  {
   "cell_type": "code",
   "execution_count": 10,
   "id": "8ad31b39-af33-41a0-9cca-5ffdddb5fb32",
   "metadata": {
    "execution": {
     "iopub.execute_input": "2023-04-11T13:20:25.343003Z",
     "iopub.status.busy": "2023-04-11T13:20:25.343003Z",
     "iopub.status.idle": "2023-04-11T13:20:25.358448Z",
     "shell.execute_reply": "2023-04-11T13:20:25.357337Z",
     "shell.execute_reply.started": "2023-04-11T13:20:25.343003Z"
    },
    "tags": []
   },
   "outputs": [
    {
     "data": {
      "text/plain": [
       "0.4269359958012008"
      ]
     },
     "execution_count": 10,
     "metadata": {},
     "output_type": "execute_result"
    }
   ],
   "source": [
    "loss = 0.5 * np.sum(np.square(output_layers - target_arr))\n",
    "loss"
   ]
  },
  {
   "cell_type": "code",
   "execution_count": 11,
   "id": "bb430e8c-5b5f-46d0-bd59-46b99b9b2cdf",
   "metadata": {
    "execution": {
     "iopub.execute_input": "2023-04-11T13:20:26.793687Z",
     "iopub.status.busy": "2023-04-11T13:20:26.793687Z",
     "iopub.status.idle": "2023-04-11T13:20:26.810035Z",
     "shell.execute_reply": "2023-04-11T13:20:26.810035Z",
     "shell.execute_reply.started": "2023-04-11T13:20:26.793687Z"
    },
    "tags": []
   },
   "outputs": [],
   "source": [
    "output_err = (output_layers - target_arr) * sigmoid_dt(output_layers)\n",
    "hidden_err = np.dot(output_err, weights_2.T)* sigmoid_dt(hidden_layers)\n",
    "weights_2-= lr*np.dot(hidden_layers.T, output_err)\n",
    "bias_2 -= lr * np.sum(output_err, axis=0, keepdims=True)\n",
    "weights_1 -= lr * np.dot(input_arr.T, hidden_err)\n",
    "bias_1 -= lr * np.sum(hidden_err, axis=0)"
   ]
  },
  {
   "cell_type": "code",
   "execution_count": 12,
   "id": "e6d32616-6253-479e-8d11-dfb65c6f8fe9",
   "metadata": {
    "execution": {
     "iopub.execute_input": "2023-04-11T13:20:27.765971Z",
     "iopub.status.busy": "2023-04-11T13:20:27.765971Z",
     "iopub.status.idle": "2023-04-11T13:20:27.781972Z",
     "shell.execute_reply": "2023-04-11T13:20:27.781972Z",
     "shell.execute_reply.started": "2023-04-11T13:20:27.765971Z"
    },
    "tags": []
   },
   "outputs": [],
   "source": [
    "hidden_layers = sigmoid(np.dot(input_arr, weights_1)+ bias_1)\n",
    "output_layers = sigmoid(np.dot(hidden_layers, weights_2)+ bias_2)"
   ]
  },
  {
   "cell_type": "code",
   "execution_count": 13,
   "id": "3a830860-ef6a-4014-9966-2980b640ee5c",
   "metadata": {
    "execution": {
     "iopub.execute_input": "2023-04-11T13:20:28.393056Z",
     "iopub.status.busy": "2023-04-11T13:20:28.393056Z",
     "iopub.status.idle": "2023-04-11T13:20:28.409068Z",
     "shell.execute_reply": "2023-04-11T13:20:28.409068Z",
     "shell.execute_reply.started": "2023-04-11T13:20:28.393056Z"
    },
    "tags": []
   },
   "outputs": [
    {
     "data": {
      "text/plain": [
       "0.423475818751864"
      ]
     },
     "execution_count": 13,
     "metadata": {},
     "output_type": "execute_result"
    }
   ],
   "source": [
    "updated_loss = np.sum(np.square(output_layers-target_arr)) * .5\n",
    "updated_loss"
   ]
  },
  {
   "cell_type": "code",
   "execution_count": 14,
   "id": "e0e241b8-b453-4521-a565-aa9c930fff63",
   "metadata": {
    "execution": {
     "iopub.execute_input": "2023-04-11T13:20:29.719142Z",
     "iopub.status.busy": "2023-04-11T13:20:29.718604Z",
     "iopub.status.idle": "2023-04-11T13:20:29.740680Z",
     "shell.execute_reply": "2023-04-11T13:20:29.740680Z",
     "shell.execute_reply.started": "2023-04-11T13:20:29.719142Z"
    },
    "tags": []
   },
   "outputs": [
    {
     "name": "stdout",
     "output_type": "stream",
     "text": [
      "0.4269 0.4235\n"
     ]
    }
   ],
   "source": [
    "print(round(float(loss.flatten()[0]), 4), round(float(updated_loss.flatten()[0]), 4))\n"
   ]
  },
  {
   "cell_type": "code",
   "execution_count": null,
   "id": "36f7e4df-5957-4b24-9ad1-3eac32b22072",
   "metadata": {},
   "outputs": [],
   "source": []
  }
 ],
 "metadata": {
  "kernelspec": {
   "display_name": "Python 3 (ipykernel)",
   "language": "python",
   "name": "python3"
  },
  "language_info": {
   "codemirror_mode": {
    "name": "ipython",
    "version": 3
   },
   "file_extension": ".py",
   "mimetype": "text/x-python",
   "name": "python",
   "nbconvert_exporter": "python",
   "pygments_lexer": "ipython3",
   "version": "3.8.8"
  },
  "widgets": {
   "application/vnd.jupyter.widget-state+json": {
    "state": {},
    "version_major": 2,
    "version_minor": 0
   }
  }
 },
 "nbformat": 4,
 "nbformat_minor": 5
}
